{
 "cells": [
  {
   "cell_type": "markdown",
   "id": "57133e09",
   "metadata": {},
   "source": [
    "# Notes\n",
    "\n",
    "MLS librispeech doesn't have punctuation... This might be not good for TTS"
   ]
  },
  {
   "cell_type": "code",
   "execution_count": null,
   "id": "eeeec323",
   "metadata": {},
   "outputs": [],
   "source": [
    "from datasets import list_datasets, load_dataset, load_metric, Audio"
   ]
  },
  {
   "cell_type": "code",
   "execution_count": null,
   "id": "5d22b455",
   "metadata": {},
   "outputs": [],
   "source": [
    "dataset = load_dataset('facebook/multilingual_librispeech', 'spanish')\n",
    "\n",
    "train_dataset = dataset['train.9h']\n",
    "test_dataset = dataset['test']"
   ]
  },
  {
   "cell_type": "code",
   "execution_count": null,
   "id": "f3e2ac71",
   "metadata": {},
   "outputs": [],
   "source": [
    "from datasets import ClassLabel\n",
    "import random\n",
    "import pandas as pd\n",
    "from IPython.display import display, HTML\n",
    "\n",
    "def show_random_elements(dataset, num_examples=10):\n",
    "    assert num_examples <= len(dataset), \"Can't pick more elements than there are in the dataset.\"\n",
    "    picks = []\n",
    "    for _ in range(num_examples):\n",
    "        pick = random.randint(0, len(dataset)-1)\n",
    "        while pick in picks:\n",
    "            pick = random.randint(0, len(dataset)-1)\n",
    "        picks.append(pick)\n",
    "    \n",
    "    df = pd.DataFrame(dataset[picks])\n",
    "    display(HTML(df.to_html()))"
   ]
  },
  {
   "cell_type": "code",
   "execution_count": null,
   "id": "89f6f7aa",
   "metadata": {},
   "outputs": [],
   "source": [
    "show_random_elements(train_dataset.remove_columns(['file', 'audio', 'chapter_id', 'id']))"
   ]
  },
  {
   "cell_type": "code",
   "execution_count": null,
   "id": "13fa4ad3",
   "metadata": {},
   "outputs": [],
   "source": [
    "show_random_elements(val_dataset.remove_columns(['file', 'audio', 'chapter_id', 'id']))"
   ]
  },
  {
   "cell_type": "code",
   "execution_count": null,
   "id": "d892cacc",
   "metadata": {},
   "outputs": [],
   "source": [
    "import re\n",
    "chars_to_ignore_regex = '[\\,\\?\\.\\!\\-\\;\\:\\\"\\“\\%\\‘\\”\\!\\¿\\¡\\!\\?]'\n",
    "\n",
    "def remove_special_characters(batch):\n",
    "    batch[\"text\"] = re.sub(chars_to_ignore_regex, '', batch[\"text\"]).lower() + \" \"\n",
    "    return batch"
   ]
  },
  {
   "cell_type": "code",
   "execution_count": null,
   "id": "3cf811a1",
   "metadata": {},
   "outputs": [],
   "source": [
    "train_dataset = train_dataset.map(remove_special_characters)\n",
    "test_dataset = test_dataset.map(remove_special_characters)"
   ]
  },
  {
   "cell_type": "code",
   "execution_count": null,
   "id": "8910e446",
   "metadata": {},
   "outputs": [],
   "source": [
    "show_random_elements(train_dataset.remove_columns(['file', 'audio', 'chapter_id', 'id']))"
   ]
  },
  {
   "cell_type": "code",
   "execution_count": null,
   "id": "701fcf2f",
   "metadata": {},
   "outputs": [],
   "source": [
    "show_random_elements(val_dataset.remove_columns(['file', 'audio', 'chapter_id', 'id']))"
   ]
  },
  {
   "cell_type": "code",
   "execution_count": null,
   "id": "9b7a32de",
   "metadata": {},
   "outputs": [],
   "source": [
    "def extract_all_chars(batch):\n",
    "    all_text = \" \".join(batch[\"text\"])\n",
    "    vocab = list(set(all_text))\n",
    "    return {\"vocab\": [vocab], \"all_text\": [all_text]}"
   ]
  },
  {
   "cell_type": "code",
   "execution_count": null,
   "id": "a85ffd43",
   "metadata": {},
   "outputs": [],
   "source": [
    "vocab_train = train_dataset.map(\n",
    "    extract_all_chars, batched=True,\n",
    "    batch_size=-1, keep_in_memory=True,\n",
    "    remove_columns=train_dataset.column_names\n",
    ")\n",
    "vocab_val = val_dataset.map(\n",
    "  extract_all_chars, batched=True, \n",
    "  batch_size=-1, keep_in_memory=True, \n",
    "  remove_columns=train_dataset.column_names\n",
    ")"
   ]
  },
  {
   "cell_type": "code",
   "execution_count": null,
   "id": "bfb72b83",
   "metadata": {},
   "outputs": [],
   "source": [
    "vocab_list = list(set(vocab_train[\"vocab\"][0]) | set(vocab_val[\"vocab\"][0]))\n",
    "vocab_dict = {v: k for k,v in enumerate(vocab_list)}\n",
    "\n",
    "vocab_dict['|'] = vocab_dict[' ']\n",
    "del vocab_dict[' ']\n",
    "\n",
    "vocab_dict[\"[UNK]\"] = len(vocab_dict)\n",
    "vocab_dict[\"[PAD]\"] = len(vocab_dict)"
   ]
  },
  {
   "cell_type": "code",
   "execution_count": null,
   "id": "af4e5904",
   "metadata": {},
   "outputs": [],
   "source": [
    "from IPython.display import Audio\n",
    "\n",
    "rand_int = random.randint(0, len(train_dataset)-1)\n",
    "\n",
    "print(train_dataset[rand_int][\"text\"])\n",
    "Audio(data=train_dataset[rand_int][\"audio\"][\"array\"], autoplay=True, rate=16000)"
   ]
  }
 ],
 "metadata": {
  "kernelspec": {
   "display_name": "Python 3 (ipykernel)",
   "language": "python",
   "name": "python3"
  },
  "language_info": {
   "codemirror_mode": {
    "name": "ipython",
    "version": 3
   },
   "file_extension": ".py",
   "mimetype": "text/x-python",
   "name": "python",
   "nbconvert_exporter": "python",
   "pygments_lexer": "ipython3",
   "version": "3.10.6"
  }
 },
 "nbformat": 4,
 "nbformat_minor": 5
}
