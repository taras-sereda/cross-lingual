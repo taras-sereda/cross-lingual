{
 "cells": [
  {
   "cell_type": "code",
   "execution_count": null,
   "metadata": {
    "collapsed": true
   },
   "outputs": [],
   "source": [
    "import Levenshtein\n",
    "import difflib"
   ]
  },
  {
   "cell_type": "code",
   "execution_count": null,
   "outputs": [],
   "source": [
    "tts_str = 'The melody of hell'\n",
    "stt_str = 'The melody melody of hell'\n",
    "Levenshtein.editops(stt_str, tts_str)"
   ],
   "metadata": {
    "collapsed": false,
    "pycharm": {
     "name": "#%%\n"
    }
   }
  },
  {
   "cell_type": "code",
   "execution_count": null,
   "outputs": [],
   "source": [
    "# idea on how to fix repetitions in TTS\n",
    "# 0. It's based on findings all common sub strings and inserting brackets at the mismatching places.\n",
    "# 1. we run STT, if stt string is longer than tts string, chances are it has repetitions\n",
    "# 2. we compare tts string with stt string, and look for all matching blocks,\n",
    "# if matching idxs differ in strings, this means, that stt string has a substring that is not a part of tts string\n",
    "# 3. we add reduct brackets, run ruduct with a modified string.\n",
    "# 4. we compute STT on reducted audio and verify with levenstein if we've got an improvement of the score.\n",
    "\n",
    "\n",
    "def insert_reduct_brackets(stt_str, tts_str):\n",
    "    matcher = difflib.SequenceMatcher(a=tts_str, b=stt_str)\n",
    "    reduct_prd_str = ''\n",
    "    prev_match_end = 0\n",
    "\n",
    "    for block in matcher.get_matching_blocks():\n",
    "        # mismatch, insert reduct brackets\n",
    "        if block.a != block.b and block.size != 0:\n",
    "            reduct_prd_str += '[' + stt_str[prev_match_end :block.b] + ']'\n",
    "\n",
    "        reduct_prd_str += stt_str[block.b: block.b + block.size]\n",
    "        prev_match_end = block.b + block.size\n",
    "\n",
    "    return reduct_prd_str\n"
   ],
   "metadata": {
    "collapsed": false,
    "pycharm": {
     "name": "#%%\n"
    }
   }
  },
  {
   "cell_type": "code",
   "execution_count": null,
   "outputs": [],
   "source": [
    "tts_str_list = [\n",
    "    'The melody of hell',\n",
    "    'Hey there',\n",
    "    ''\n",
    "]\n",
    "stt_str_list = [\n",
    "    'The melody melody of hell',\n",
    "    'Hey there',\n",
    "    'something'\n",
    "]\n",
    "for a,b in zip(tts_str_list, stt_str_list):\n",
    "    reduct_b = insert_reduct_brackets(b, a)\n",
    "    print(a, b, reduct_b)\n"
   ],
   "metadata": {
    "collapsed": false,
    "pycharm": {
     "name": "#%%\n"
    }
   }
  }
 ],
 "metadata": {
  "kernelspec": {
   "display_name": "Python 3",
   "language": "python",
   "name": "python3"
  },
  "language_info": {
   "codemirror_mode": {
    "name": "ipython",
    "version": 2
   },
   "file_extension": ".py",
   "mimetype": "text/x-python",
   "name": "python",
   "nbconvert_exporter": "python",
   "pygments_lexer": "ipython2",
   "version": "2.7.6"
  }
 },
 "nbformat": 4,
 "nbformat_minor": 0
}