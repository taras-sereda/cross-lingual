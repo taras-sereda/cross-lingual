{
 "cells": [
  {
   "cell_type": "code",
   "execution_count": null,
   "metadata": {
    "pycharm": {
     "name": "#%%\n"
    }
   },
   "outputs": [],
   "source": [
    "from datetime import datetime\n",
    "\n",
    "import numpy as np\n",
    "import sys\n",
    "import soundfile as sf\n",
    "import torch\n",
    "\n",
    "sys.path.insert(0, '../')\n",
    "from editor_app.schemas import UtteranceSTTCreate\n",
    "from editor_app.stt import transcribe_utterance\n",
    "from editor_app.database import SessionLocal\n",
    "from editor_app.crud import get_project_by_title, create_utterance_stt, get_utterances_stt\n",
    "from utils import compute_string_similarity\n",
    "from IPython.display import display, Audio"
   ]
  },
  {
   "cell_type": "code",
   "execution_count": null,
   "metadata": {
    "pycharm": {
     "name": "#%%\n"
    }
   },
   "outputs": [],
   "source": [
    "db = SessionLocal()"
   ]
  },
  {
   "cell_type": "code",
   "execution_count": null,
   "metadata": {
    "pycharm": {
     "name": "#%%\n"
    },
    "scrolled": false
   },
   "outputs": [],
   "source": [
    "title = 'morts_insolites_89'\n",
    "user_id = 1\n",
    "project = get_project_by_title(db, title, user_id)\n",
    "\n",
    "scores = []\n",
    "for utter in project.utterances:\n",
    "    stt_text, lang = transcribe_utterance(utter)\n",
    "    levenstein_score = compute_string_similarity(utter.text, stt_text)\n",
    "    score = round(levenstein_score, 3)\n",
    "    print(score, utter.text, stt_text)\n",
    "    \n",
    "    utter_stt = UtteranceSTTCreate(orig_utterance_id = utter.id,\n",
    "                                   text=stt_text,\n",
    "                                   levenstein_similarity=round(levenstein_score,3),\n",
    "                                   date=datetime.now())\n",
    "    create_utterance_stt(db, utter_stt)\n",
    "    scores.append(score)\n",
    "    \n",
    "np.mean(scores)"
   ]
  },
  {
   "cell_type": "markdown",
   "metadata": {},
   "source": [
    "### Reduction\n",
    "Text enclosed in square brakets will be reducted with the help of wav2vecalligner. this allows to handle issues with repetiotions automatically."
   ]
  },
  {
   "cell_type": "code",
   "execution_count": null,
   "metadata": {},
   "outputs": [],
   "source": [
    "from tortoise.utils.wav2vec_alignment import Wav2VecAlignment\n",
    "\n",
    "aligner = Wav2VecAlignment()"
   ]
  },
  {
   "cell_type": "code",
   "execution_count": null,
   "metadata": {},
   "outputs": [],
   "source": [
    "print(project.utterances[4].text)\n",
    "wav_path = project.utterances[4].get_audio_path()\n",
    "wav, sample_rate = sf.read(wav_path)\n",
    "wav = torch.from_numpy(wav).unsqueeze(0).to(dtype=torch.float32, device='cuda')\n",
    "# expected_text = 'His beginnings already suggested a destiny of star. In May 1963, Keith Rell founded the famous rock band, The Yardbirds, with guitarist Anthony Toffum, his high school friend. [With his baritone voice and his high school friend.] With his baritone voice and his harmonica flights, Keith captured all the light.'\n",
    "expected_text = 'His beginnings already suggested a destiny of star. In May 1963, Keith Rell founded the famous rock band, The Yardbirds, with guitarist Anthony Toffum, his high school friend. With his baritone voice and his harmonica flights, Keith captured all the light.'\n",
    "res_wav = aligner.redact(wav, expected_text)\n",
    "Audio(data=res_wav.cpu(), rate=sample_rate)"
   ]
  },
  {
   "cell_type": "code",
   "execution_count": null,
   "metadata": {},
   "outputs": [],
   "source": [
    "path = project.utterances[4].get_audio_path()\n",
    "path.unlink()\n",
    "sf.write(path, res_wav.cpu().squeeze(0), sample_rate)"
   ]
  },
  {
   "cell_type": "code",
   "execution_count": null,
   "metadata": {},
   "outputs": [],
   "source": [
    "def compute_project_mean_score(db, title, user_id):\n",
    "\n",
    "    project = get_project_by_title(db, title, user_id)\n",
    "    scores = []\n",
    "    sort_func = lambda x: x.date\n",
    "    for utter in project.utterances:\n",
    "        assert len(utter.utterance_stt) > 0\n",
    "        utterance_stt = sorted(utter.utterance_stt, key=sort_func)[-1]\n",
    "        scores.append(utterance_stt.levenstein_similarity)\n",
    "    return sum(scores) / len(scores)"
   ]
  },
  {
   "cell_type": "code",
   "execution_count": null,
   "metadata": {},
   "outputs": [],
   "source": [
    "compute_project_mean_score(db, title, user_id)"
   ]
  }
 ],
 "metadata": {
  "kernelspec": {
   "display_name": "Python 3 (ipykernel)",
   "language": "python",
   "name": "python3"
  },
  "language_info": {
   "codemirror_mode": {
    "name": "ipython",
    "version": 3
   },
   "file_extension": ".py",
   "mimetype": "text/x-python",
   "name": "python",
   "nbconvert_exporter": "python",
   "pygments_lexer": "ipython3",
   "version": "3.10.6"
  }
 },
 "nbformat": 4,
 "nbformat_minor": 1
}