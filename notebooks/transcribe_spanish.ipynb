{
 "cells": [
  {
   "cell_type": "code",
   "execution_count": null,
   "id": "2292b492",
   "metadata": {},
   "outputs": [],
   "source": [
    "import torch\n",
    "from datasets import load_dataset\n",
    "from transformers import AutoModelForCTC, AutoProcessor\n",
    "import torchaudio.functional as F\n",
    "import soundfile\n",
    "import librosa\n",
    "import time\n",
    "\n",
    "from IPython.display import Audio"
   ]
  },
  {
   "cell_type": "code",
   "execution_count": null,
   "id": "9a69b8c0",
   "metadata": {},
   "outputs": [],
   "source": [
    "model_id = \"patrickvonplaten/wav2vec2-large-xlsr-53-spanish-with-lm\"\n",
    "\n",
    "\n",
    "model = AutoModelForCTC.from_pretrained(model_id)\n",
    "processor = AutoProcessor.from_pretrained(model_id)\n",
    "\n",
    "model = model.cuda()"
   ]
  },
  {
   "cell_type": "code",
   "execution_count": null,
   "id": "ce819cca",
   "metadata": {},
   "outputs": [],
   "source": [
    "audio_path = \"/data/podcasts/El hilo/La-ultima-clinica-de-aborto-en-la-frontera-sur-de-Texas.mp3\"\n",
    "wav, sr = librosa.load(audio_path, duration=100)\n",
    "\n",
    "wav_clip = wav[:sr*60]\n",
    "Audio(wav_clip, rate=sr)"
   ]
  },
  {
   "cell_type": "code",
   "execution_count": null,
   "id": "35364710",
   "metadata": {},
   "outputs": [],
   "source": [
    "resampled_wav = F.resample(torch.tensor(wav_clip), sr, 16_000).numpy()\n",
    "\n",
    "input_values = processor(resampled_wav, return_tensors=\"pt\").input_values\n",
    "input_values = input_values.cuda()\n",
    "start_time = time.time()\n",
    "with torch.no_grad():\n",
    "    logits = model(input_values).logits\n",
    "transcription = processor.batch_decode(logits.cpu().numpy()).text\n",
    "print(time.time() - start_time)\n",
    "print(transcription)"
   ]
  },
  {
   "cell_type": "markdown",
   "id": "e7af5362",
   "metadata": {},
   "source": [
    "### Notes\n",
    "\n",
    "- on RTX 3090 it takes less then 1 sec ~ 830 msec to transcribe 1 min of audio. Pretty good!\n",
    "- on Titan X 1.92 sec"
   ]
  },
  {
   "cell_type": "markdown",
   "id": "9513dec7",
   "metadata": {},
   "source": [
    "Testing model finetuned on 9 hours of mls dataset, without LM. finetuning took around 3 hours on single RTX 3090\n",
    "greedy decoding without LM, takes less time as expected. ~ 1.38 sec for 1 min of audio, or TitanX"
   ]
  },
  {
   "cell_type": "code",
   "execution_count": null,
   "id": "a05b03d9",
   "metadata": {},
   "outputs": [],
   "source": [
    "from pathlib import Path\n",
    "\n",
    "ckpt_path = Path('/home/taras/git-repos/one-lang/audio-representation-learning/wav2vec2-large-xlsr-53-spanish-mls/checkpoint-1200/')\n",
    "mls_spanish_model = AutoModelForCTC.from_pretrained(ckpt_path)\n",
    "mls_spanish_model = mls_spanish_model.cuda()"
   ]
  },
  {
   "cell_type": "code",
   "execution_count": null,
   "id": "ef8b9c5e",
   "metadata": {},
   "outputs": [],
   "source": [
    "from transformers import AutoTokenizer, AutoFeatureExtractor, Wav2Vec2Processor\n",
    "\n",
    "feature_extractor = AutoFeatureExtractor.from_pretrained(ckpt_path)\n",
    "tokenizer = AutoTokenizer.from_pretrained(ckpt_path.parent)\n",
    "mls_spanish_processor = Wav2Vec2Processor(feature_extractor=feature_extractor, tokenizer=tokenizer)"
   ]
  },
  {
   "cell_type": "code",
   "execution_count": null,
   "id": "2d789e55",
   "metadata": {},
   "outputs": [],
   "source": [
    "start_time = time.time()\n",
    "with torch.no_grad():\n",
    "    logits = mls_spanish_model(input_values).logits\n",
    "transcription = mls_spanish_processor.batch_decode(logits.argmax(-1).cpu().numpy())\n",
    "print(time.time() - start_time)\n",
    "print(transcription)"
   ]
  }
 ],
 "metadata": {
  "kernelspec": {
   "display_name": "Python 3 (ipykernel)",
   "language": "python",
   "name": "python3"
  },
  "language_info": {
   "codemirror_mode": {
    "name": "ipython",
    "version": 3
   },
   "file_extension": ".py",
   "mimetype": "text/x-python",
   "name": "python",
   "nbconvert_exporter": "python",
   "pygments_lexer": "ipython3",
   "version": "3.10.6"
  }
 },
 "nbformat": 4,
 "nbformat_minor": 5
}