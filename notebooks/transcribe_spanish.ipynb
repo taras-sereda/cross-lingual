{
 "cells": [
  {
   "cell_type": "code",
   "execution_count": null,
   "id": "2292b492",
   "metadata": {},
   "outputs": [],
   "source": [
    "import torch\n",
    "from datasets import load_dataset\n",
    "from transformers import AutoModelForCTC, AutoProcessor\n",
    "import torchaudio.functional as F\n",
    "import soundfile\n",
    "import librosa\n",
    "import time\n",
    "\n",
    "from IPython.display import Audio"
   ]
  },
  {
   "cell_type": "code",
   "execution_count": null,
   "id": "9a69b8c0",
   "metadata": {},
   "outputs": [],
   "source": [
    "model_id = \"patrickvonplaten/wav2vec2-large-xlsr-53-spanish-with-lm\"\n",
    "\n",
    "\n",
    "model = AutoModelForCTC.from_pretrained(model_id)\n",
    "processor = AutoProcessor.from_pretrained(model_id)\n",
    "\n",
    "model = model.cuda()"
   ]
  },
  {
   "cell_type": "code",
   "execution_count": null,
   "id": "ce819cca",
   "metadata": {},
   "outputs": [],
   "source": [
    "audio_path = \"/data/podcasts/El hilo/La-ultima-clinica-de-aborto-en-la-frontera-sur-de-Texas.mp3\"\n",
    "wav, sr = librosa.load(audio_path)\n",
    "\n",
    "wav_clip = wav[:sr*60]\n",
    "Audio(wav_clip, rate=sr)"
   ]
  },
  {
   "cell_type": "code",
   "execution_count": null,
   "id": "35364710",
   "metadata": {},
   "outputs": [],
   "source": [
    "resampled_wav = F.resample(torch.tensor(wav_clip), sr, 16_000).numpy()\n",
    "\n",
    "input_values = processor(resampled_wav, return_tensors=\"pt\").input_values\n",
    "input_values = input_values.cuda()\n",
    "start = time.time()\n",
    "with torch.no_grad():\n",
    "    logits = model(input_values).logits\n",
    "transcription = processor.batch_decode(logits.cpu().numpy()).text\n",
    "print(transcription)\n",
    "print(time.time() - start)"
   ]
  },
  {
   "cell_type": "markdown",
   "id": "e7af5362",
   "metadata": {},
   "source": [
    "### Notes\n",
    "\n",
    "on RTX 3090 it takes less then 1 sec ~ 830 msec to transcribe 1 min of audio. Pretty good!"
   ]
  }
 ],
 "metadata": {
  "kernelspec": {
   "display_name": "Python 3 (ipykernel)",
   "language": "python",
   "name": "python3"
  },
  "language_info": {
   "codemirror_mode": {
    "name": "ipython",
    "version": 3
   },
   "file_extension": ".py",
   "mimetype": "text/x-python",
   "name": "python",
   "nbconvert_exporter": "python",
   "pygments_lexer": "ipython3",
   "version": "3.10.6"
  }
 },
 "nbformat": 4,
 "nbformat_minor": 5
}
